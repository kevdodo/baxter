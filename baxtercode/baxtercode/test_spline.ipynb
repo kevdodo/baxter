{
 "cells": [
  {
   "cell_type": "code",
   "execution_count": 1,
   "metadata": {},
   "outputs": [],
   "source": [
    "xstart = .8\n",
    "ystart = .8\n",
    "zstart = .1\n",
    "setup_time = 5\n",
    "\n",
    "# These are the constants for juggling, it is set up so that the time of\n",
    "# flight for the top ball is 3x the time of flight for the bottom ball and\n",
    "# the time it takes for the hands to throw the ball is equal to the time\n",
    "# of the bottom balls flight, and this is also equal to the recover time\n",
    "# this makes for a seamless catch throw recover repeat cycle\n",
    "\n",
    "# the time for a throw from the right to the left hand\n",
    "tRL = 1.2\n",
    "# the time for a throw from the left to the right hand\n",
    "tLR = .4\n",
    "\n",
    "# time it takes for a hand to throw a ball\n",
    "tThrow = .4\n",
    "# time it takes for a hand to recover back to catch position\n",
    "tRecov = .4\n",
    "\n",
    "# the delta change in the y and the z direction for the throw to take place\n",
    "# for both hands\n",
    "deltayr = .05\n",
    "deltazr = .09\n",
    "deltayl = .09\n",
    "deltazl = .05\n"
   ]
  },
  {
   "cell_type": "code",
   "execution_count": 2,
   "metadata": {},
   "outputs": [],
   "source": [
    "def spline5(t, T, p0, pf, v0, vf, a0, af):\n",
    "    # Compute the parameters.\n",
    "    a = p0\n",
    "    b = v0\n",
    "    c = a0\n",
    "    d = + 10*(pf-p0)/T**3 - 6*v0/T**2 - 3*a0/T    - 4*vf/T**2 + 0.5*af/T\n",
    "    e = - 15*(pf-p0)/T**4 + 8*v0/T**3 + 3*a0/T**2 + 7*vf/T**3 -     af/T**2\n",
    "    f = +  6*(pf-p0)/T**5 - 3*v0/T**4 -   a0/T**3 - 3*vf/T**4 + 0.5*af/T**3\n",
    "    # Compute the current (p,v).\n",
    "    p = a + b * t +   c * t**2 +   d * t**3 +   e * t**4 +   f * t**5\n",
    "    v =     b     + 2*c * t    + 3*d * t**2 + 4*e * t**3 + 5*f * t**4\n",
    "    return (p,v)"
   ]
  },
  {
   "cell_type": "code",
   "execution_count": 5,
   "metadata": {},
   "outputs": [
    {
     "data": {
      "image/png": "[encoded data removed]",
      "text/plain": [
       "<Figure size 432x288 with 1 Axes>"
      ]
     },
     "metadata": {
      "needs_background": "light"
     },
     "output_type": "display_data"
    }
   ],
   "source": [
    "import numpy as np\n",
    "import matplotlib.pyplot as plt\n",
    "\n",
    "p0 = np.array([xstart, -ystart, zstart]).reshape(3, 1)\n",
    "pf = np.array([xstart, -ystart + deltayr,\n",
    "                zstart + deltazr]).reshape(3, 1)\n",
    "v0 = np.array([0.0, 0.0, 0.0]).reshape(3, 1)\n",
    "vf = np.array([1, ((2 * ystart) - deltayr) / tRL,\n",
    "                (-deltazr + (.5 * 9.8 * tRL**2)) / tRL]).reshape(3, 1)\n",
    "a = np.array([0.0, 0.0, 0.0]).reshape(3, 1)\n",
    "\n",
    "t = np.arange(0, .4, .001)\n",
    "T = .4\n",
    "\n",
    "pdr, vdr = spline5(t, T, p0, pf, v0, vf, a, a)\n",
    "\n",
    "plt.plot(t, vdr[0])\n",
    "plt.show()\n",
    "\n"
   ]
  },
  {
   "cell_type": "code",
   "execution_count": null,
   "metadata": {},
   "outputs": [],
   "source": []
  }
 ],
 "metadata": {
  "kernelspec": {
   "display_name": "Python 3",
   "language": "python",
   "name": "python3"
  },
  "language_info": {
   "codemirror_mode": {
    "name": "ipython",
    "version": 3
   },
   "file_extension": ".py",
   "mimetype": "text/x-python",
   "name": "python",
   "nbconvert_exporter": "python",
   "pygments_lexer": "ipython3",
   "version": "3.9.13"
  }
 },
 "nbformat": 4,
 "nbformat_minor": 2
}
